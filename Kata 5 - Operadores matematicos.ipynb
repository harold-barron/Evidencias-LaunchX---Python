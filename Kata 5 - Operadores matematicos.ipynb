{
 "cells": [
  {
   "cell_type": "markdown",
   "metadata": {},
   "source": [
    "# Kata 5\n"
   ]
  },
  {
   "cell_type": "markdown",
   "metadata": {},
   "source": [
    "\n",
    "# Ejercicio1 - Utilizar operadores aritméticos\n",
    "\n",
    "Calcular distancia entre planetas\n",
    "\n"
   ]
  },
  {
   "cell_type": "code",
   "execution_count": 3,
   "metadata": {},
   "outputs": [
    {
     "name": "stdout",
     "output_type": "stream",
     "text": [
      "Distancia entre Jupiter y la tierra en Km =  628949330\n",
      "Distancia entre Jupiter y la tierra en Millas =  390577533.93\n"
     ]
    }
   ],
   "source": [
    "Tierra = 149597870 #km\n",
    "Jupiter = 778547200 #Km\n",
    "Milla = 0.621\n",
    "\n",
    "#Calculo de distancia \n",
    "\n",
    "Distancia= Jupiter - Tierra\n",
    "DMillas = Distancia * Milla\n",
    "print(\"Distancia entre Jupiter y la tierra en Km = \", Distancia)\n",
    "print(\"Distancia entre Jupiter y la tierra en Millas = \", DMillas)"
   ]
  },
  {
   "cell_type": "markdown",
   "metadata": {},
   "source": [
    "# Ejercicio 2: convierte cadenas en números y usa valores absolutos"
   ]
  },
  {
   "cell_type": "code",
   "execution_count": 7,
   "metadata": {},
   "outputs": [
    {
     "name": "stdout",
     "output_type": "stream",
     "text": [
      "Distancia entre los dos planetas en Km =  119700000\n",
      "Distancia entre los dos planetas en Millas =  74333700.0\n"
     ]
    }
   ],
   "source": [
    "#Pedimos los valores\n",
    "Valor1 = input(\"Ingrese el valor del primer planeta\")\n",
    "Valor2 = input(\"Ingrese el valor del segundo planeta\")\n",
    "#Convertimos a enteros\n",
    "Valor1conv = int(Valor1)\n",
    "Valor2conv = int(Valor2)\n",
    "\n",
    "#Calculamos la distancia absoluta\n",
    "\n",
    "DistanciaKm = abs(Valor2conv-Valor1conv)\n",
    "DistanciaMilla = abs(Valor2conv-Valor1conv) * Milla\n",
    "print(\"Distancia entre los dos planetas en Km = \", DistanciaKm)\n",
    "print(\"Distancia entre los dos planetas en Millas = \", DistanciaMilla)\n",
    "\n"
   ]
  }
 ],
 "metadata": {
  "interpreter": {
   "hash": "a03ff44ec1fcee9640f4bdfd1d63746224a58cf927036271d00526ccb0585fb9"
  },
  "kernelspec": {
   "display_name": "Python 3.10.2 64-bit",
   "language": "python",
   "name": "python3"
  },
  "language_info": {
   "codemirror_mode": {
    "name": "ipython",
    "version": 3
   },
   "file_extension": ".py",
   "mimetype": "text/x-python",
   "name": "python",
   "nbconvert_exporter": "python",
   "pygments_lexer": "ipython3",
   "version": "3.10.2"
  },
  "orig_nbformat": 4
 },
 "nbformat": 4,
 "nbformat_minor": 2
}
