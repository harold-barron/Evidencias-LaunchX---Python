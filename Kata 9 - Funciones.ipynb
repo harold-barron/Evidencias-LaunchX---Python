{
 "cells": [
  {
   "cell_type": "markdown",
   "metadata": {},
   "source": [
    "# Kata 9"
   ]
  },
  {
   "cell_type": "markdown",
   "metadata": {},
   "source": [
    "\n",
    "# Ejercicio 1: Trabajar con argumentos en funciones\n"
   ]
  },
  {
   "cell_type": "code",
   "execution_count": null,
   "metadata": {},
   "outputs": [],
   "source": [
    "def combustible(tanque1,tanque2,tanque3):\n",
    "    promedio = (tanque1 + tanque2 + tanque3)/ 3\n",
    "    return f\"\"\"Reporte de combustible:\n",
    "    promedio: {promedio}%\n",
    "    tanque 1: {tanque1}%\n",
    "    tanque 2: {tanque2}%\n",
    "    tanque 3: {tanque3}%\n",
    "    \"\"\"\n",
    "print(combustible(0,0,0))\n",
    "\n",
    "def prome(tanques):\n",
    "    valor = sum(tanques)\n",
    "    longitud = len(tanques)\n",
    "    return valor/longitud\n",
    "\n",
    "def new_report(tank1,tank2,tank3):\n",
    "    return f\"\"\"Reporte de combustible:\n",
    "    promedio: {prome([tank1,tank2,tank3])}%\n",
    "    tanque 1: {tank1}%\n",
    "    tanque 2: {tank2}%\n",
    "    tanque 3: {tank3}%\n",
    "    \"\"\"\n",
    "\n",
    "print(new_report(70,80,50))\n"
   ]
  },
  {
   "cell_type": "markdown",
   "metadata": {},
   "source": [
    "# Ejercicio 2: Trabajo con argumentos de palabra clave\n"
   ]
  },
  {
   "cell_type": "code",
   "execution_count": 21,
   "metadata": {},
   "outputs": [
    {
     "name": "stdout",
     "output_type": "stream",
     "text": [
      "\" Nuevo informe:\n",
      "    destino:Marte\n",
      "    Tiempo del viaje:25\n",
      "    Combustible total de la nave: 3000\n",
      "    \n",
      "\" Informe Final:\n",
      "    destino:Marte\n",
      "    Tiempo del viaje:25\n",
      "    Combustible total de la nave: 3000\n",
      "    Combustible en tanque interno:1000\n",
      "Combustible en tanque externo:2000\n",
      "\n"
     ]
    }
   ],
   "source": [
    "def informe(prelanzamiento,tiempovuelo,destino,tanqueext,tanqueinter):\n",
    "    return f\"\"\" Informe preciso:\n",
    "    Hora de prelanzamiento:{prelanzamiento}\n",
    "    Tiempo de vuelo:{tiempovuelo}\n",
    "    destino:{destino}\n",
    "    Tiempo total = {tiempovuelo+destino}\n",
    "    Tanque externo: {tanqueext}\n",
    "    Tanque interno: {tanqueinter}\n",
    "    Combustible total: {tanqueext+tanqueinter}\n",
    "    \"\"\"\n",
    "def nuevo_informe(destino,*tiempo,**combustible):\n",
    "    return f\"\"\"\" Nuevo informe:\n",
    "    destino:{destino}\n",
    "    Tiempo del viaje:{sum(tiempo)}\n",
    "    Combustible total de la nave: {sum(combustible.values())}\n",
    "    \"\"\"\n",
    "print(nuevo_informe('Marte',5,10,10,inter=1000,ext=2000)) \n",
    "\n",
    "def informe_final(destino,*tiempo,**combustible):\n",
    "    reporte = f\"\"\"\" Informe Final:\n",
    "    destino:{destino}\n",
    "    Tiempo del viaje:{sum(tiempo)}\n",
    "    Combustible total de la nave: {sum(combustible.values())}\n",
    "    \"\"\"    \n",
    "    for nombre,valor in combustible.items():\n",
    "        reporte+=f\"\"\"Combustible en tanque {nombre}:{valor}\\n\"\"\"\n",
    "    return reporte\n",
    "print(informe_final('Marte',5,10,10,interno=1000,externo=2000)) \n"
   ]
  }
 ],
 "metadata": {
  "interpreter": {
   "hash": "a03ff44ec1fcee9640f4bdfd1d63746224a58cf927036271d00526ccb0585fb9"
  },
  "kernelspec": {
   "display_name": "Python 3.10.2 64-bit",
   "language": "python",
   "name": "python3"
  },
  "language_info": {
   "codemirror_mode": {
    "name": "ipython",
    "version": 3
   },
   "file_extension": ".py",
   "mimetype": "text/x-python",
   "name": "python",
   "nbconvert_exporter": "python",
   "pygments_lexer": "ipython3",
   "version": "3.10.2"
  },
  "orig_nbformat": 4
 },
 "nbformat": 4,
 "nbformat_minor": 2
}
