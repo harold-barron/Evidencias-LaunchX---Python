{
 "cells": [
  {
   "cell_type": "markdown",
   "metadata": {},
   "source": [
    "# Kata 3\n",
    "\n",
    "# Problema 1\n",
    "\n",
    "Para este ejercicio, escribirás una lógica condicional que imprima una advertencia si un asteroide se acerca a la Tierra demasiado rápido. La velocidad del asteroide varía dependiendo de lo cerca que esté del sol, y cualquier velocidad superior a 25 kilómetros por segundo (km/s) merece una advertencia.\n",
    "\n",
    "Un asteroide se acerca, y viaja a una velocidad de 49 km/s."
   ]
  },
  {
   "cell_type": "code",
   "execution_count": null,
   "metadata": {},
   "outputs": [],
   "source": [
    "Vmax_permitida = 25  #Km/h\n",
    "V_Asteroide = 49     #Km/h"
   ]
  },
  {
   "cell_type": "code",
   "execution_count": null,
   "metadata": {},
   "outputs": [],
   "source": [
    "if V_Asteroide > Vmax_permitida:\n",
    "    print(\"ADVERTENCIA\")\n",
    "    print(\"Un asteroide viaja demasiado rapido\")\n",
    "    print(\"La velocidad del asteroide es = \", V_Asteroide, \"Km/h\")\n",
    "else:\n",
    "    print(\"No hay ningun peligro\")"
   ]
  },
  {
   "cell_type": "markdown",
   "metadata": {},
   "source": [
    "## Problema 2\n",
    "Si un asteroide entra en la atmósfera de la Tierra a una velocidad mayor o igual a 20 km/s, a veces produce un rayo de luz que se puede ver desde la Tierra.\n",
    "\n",
    "Escribe la lógica condicional para alertar a las personas de todo el mundo que deben buscar un asteroide en el cielo. ¡Hay uno que se dirige a la tierra ahora a una velocidad de 19 km/s!"
   ]
  },
  {
   "cell_type": "code",
   "execution_count": 17,
   "metadata": {},
   "outputs": [
    {
     "name": "stdout",
     "output_type": "stream",
     "text": [
      "No se puede apreciar nada en el cielo, debido a que la velocidad del asteroide es = 19 Km/h\n"
     ]
    }
   ],
   "source": [
    "V2_Asteroide = 19\n",
    "VRayo = 20\n",
    "\n",
    "if V2_Asteroide >= VRayo:\n",
    "    print(\"Se puede observar un rayo de luz en el cielo debido a un asteroido cuya velocidad es de = \",V2_Asteroide, \"Km/h buscalo\")\n",
    "else: \n",
    "    print(\"No se puede apreciar nada en el cielo, debido a que la velocidad del asteroide es =\", V2_Asteroide, \"Km/h\")"
   ]
  },
  {
   "cell_type": "markdown",
   "metadata": {},
   "source": [
    "# Problema 3\n",
    "\n",
    "Escribe un programa que emita la advertencia o información correcta a la gente de la Tierra, según la velocidad y el tamaño de un asteroide. "
   ]
  },
  {
   "cell_type": "markdown",
   "metadata": {},
   "source": [
    "*Los asteroides de menos de 25 metros en su dimensión más grande probablemente se quemarán a medida que entren en la atmósfera de la Tierra.\n",
    "\n",
    "*Si una pieza de un asteroide que es más grande que 25 metros pero más pequeña que 1000 metros golpeara la Tierra, causaría mucho daño.\n",
    "\n",
    "*La velocidad del asteroide varía en función de lo cerca que esté del sol, y cualquier velocidad superior a 25 kilómetros por segundo (km/s) merece una advertencia.\n",
    "\n",
    "*Si un asteroide entra en la atmósfera de la Tierra a una velocidad mayor o igual a 20 km/s, a veces produce un rayo de luz que se puede ver desde la Tierra.\n"
   ]
  },
  {
   "cell_type": "code",
   "execution_count": 20,
   "metadata": {},
   "outputs": [
    {
     "name": "stdout",
     "output_type": "stream",
     "text": [
      "El asteroide se quemará a medida que entra a l atmosfera\n"
     ]
    }
   ],
   "source": [
    "V3_asteroide = 30 #Km/h\n",
    "tamaño_asteroide = 18 #cm\n",
    "\n",
    "if tamaño_asteroide < 25:\n",
    "    print(\"El asteroide se quemará a medida que entra a l atmosfera\")\n",
    "elif tamaño_asteroide >25 and V3_asteroide > 25:\n",
    "    print(\"Asteroide peligroso camino a la tierra\")\n",
    "elif V3_asteroide >= 25:\n",
    "    print(\"Hay una luz en el cielo\")\n",
    "else:\n",
    "    print(\"No hay peligro\")"
   ]
  }
 ],
 "metadata": {
  "interpreter": {
   "hash": "a03ff44ec1fcee9640f4bdfd1d63746224a58cf927036271d00526ccb0585fb9"
  },
  "kernelspec": {
   "display_name": "Python 3.10.2 64-bit",
   "language": "python",
   "name": "python3"
  },
  "language_info": {
   "codemirror_mode": {
    "name": "ipython",
    "version": 3
   },
   "file_extension": ".py",
   "mimetype": "text/x-python",
   "name": "python",
   "nbconvert_exporter": "python",
   "pygments_lexer": "ipython3",
   "version": "3.10.2"
  },
  "orig_nbformat": 4
 },
 "nbformat": 4,
 "nbformat_minor": 2
}
