{
 "cells": [
  {
   "cell_type": "markdown",
   "metadata": {},
   "source": [
    "# Kata 4 "
   ]
  },
  {
   "cell_type": "markdown",
   "metadata": {},
   "source": [
    "# Ejercicio 1: Transformar cadenas"
   ]
  },
  {
   "cell_type": "markdown",
   "metadata": {},
   "source": [
    " En este ejercicio, usarás métodos de cadena para modificar el texto con hechos sobre la Luna y luego extraerás información para crear un breve resumen.\n",
    " "
   ]
  },
  {
   "cell_type": "code",
   "execution_count": 164,
   "metadata": {},
   "outputs": [],
   "source": [
    "text = \"\"\"Interesting facts about the Moon. The Moon is Earth's only satellite. There are several interesting facts about the Moon and how it affects life here on Earth. \n",
    "On average, the Moon moves 4cm away from the Earth every year. This yearly drift is not significant enough to cause immediate effects on Earth. The highest daylight temperature of the Moon is 127 C.\"\"\""
   ]
  },
  {
   "cell_type": "code",
   "execution_count": 165,
   "metadata": {},
   "outputs": [
    {
     "name": "stdout",
     "output_type": "stream",
     "text": [
      "The Moon is Earth's only satellite\n",
      "There are several interesting facts about the Moon and how it affects life here on Earth\n",
      "This yearly drift is not significant enough to cause immediate effects on Eart\n"
     ]
    }
   ],
   "source": [
    "text_s = text.split('. ')\n",
    "palabaras =[\"average\",\"temperature\",\"distance\"]\n",
    "for i in text_s:\n",
    "    for palabaras in palabaras:\n",
    "        if palabaras in i:\n",
    "            print(i)\n",
    "            break"
   ]
  },
  {
   "cell_type": "code",
   "execution_count": 166,
   "metadata": {},
   "outputs": [
    {
     "name": "stdout",
     "output_type": "stream",
     "text": [
      "Interesting facts about the Moon\n",
      "The Moon is Earth's only satellite\n",
      "There are several interesting facts about the Moon and how it affects life here on Earth\n",
      "This yearly drift is not significant enough to cause immediate effects on Eart\n"
     ]
    }
   ],
   "source": [
    "for i in text_s:\n",
    "    for palabaras in palabaras:\n",
    "        if palabaras in i:\n",
    "            print(i.replace('C','Celcius'))\n",
    "            break"
   ]
  },
  {
   "cell_type": "markdown",
   "metadata": {},
   "source": [
    "# Ejercicio 2: Formateando Cadenas  "
   ]
  },
  {
   "cell_type": "code",
   "execution_count": 174,
   "metadata": {},
   "outputs": [
    {
     "name": "stdout",
     "output_type": "stream",
     "text": [
      "Gravity In Moon And Earth\n",
      "---------------------------------\n",
      "Planet name: moon\n",
      "Gravity: 1.6199999999999999 m/s^2\n",
      "Planet: earth\n",
      "\n",
      "\n",
      "Gravity In Moon And Earth\n",
      "---------------------------------\n",
      "Planet name: moon\n",
      "Gravity: 1.6199999999999999 m/s^2\n",
      "Planet: earth\n",
      "\n",
      "\n",
      "\n",
      "Gravity in Marte  and Ganímedes\n",
      "------------------------------\n",
      "Planet name: Marte \n",
      "Gravity: 1.4300000000000002 m/s^2\n",
      "Planet: Ganímedes\n",
      "\n"
     ]
    }
   ],
   "source": [
    "name = \"moon\"\n",
    "gravity = 0.00162 # in kms\n",
    "planet = \"earth\"\n",
    "\n",
    "titulo= f'Gravity in {name} and {planet}'\n",
    "Cadena =f'''---------------------------------\n",
    "Planet name: {name}\n",
    "Gravity: {gravity*1000} m/s^2\n",
    "Planet: {planet}\n",
    "'''\n",
    "union= f'''{titulo.title()}\n",
    "{Cadena}\n",
    "'''\n",
    "{print(union)}\n",
    "#print(plantilla)\n",
    "name = 'Marte '\n",
    "gravity  = 0.00143\n",
    "planet = 'Ganímedes'\n",
    "{print(union)}\n",
    "gravity_real = gravity*1000\n",
    "\n",
    "nueva_union = \"\"\"\n",
    "Gravity in {name} and {planet}\n",
    "------------------------------\n",
    "Planet name: {name}\n",
    "Gravity: {gravity_real} m/s^2\n",
    "Planet: {planet}\n",
    "\"\"\"\n",
    "print(nueva_union.format(name=name,planet=planet,gravity_real=gravity_real))\n"
   ]
  }
 ],
 "metadata": {
  "interpreter": {
   "hash": "a03ff44ec1fcee9640f4bdfd1d63746224a58cf927036271d00526ccb0585fb9"
  },
  "kernelspec": {
   "display_name": "Python 3.10.2 64-bit",
   "language": "python",
   "name": "python3"
  },
  "language_info": {
   "codemirror_mode": {
    "name": "ipython",
    "version": 3
   },
   "file_extension": ".py",
   "mimetype": "text/x-python",
   "name": "python",
   "nbconvert_exporter": "python",
   "pygments_lexer": "ipython3",
   "version": "3.10.2"
  },
  "orig_nbformat": 4
 },
 "nbformat": 4,
 "nbformat_minor": 2
}
