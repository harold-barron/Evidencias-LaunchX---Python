{
 "cells": [
  {
   "cell_type": "markdown",
   "metadata": {},
   "source": [
    "# Kata 8\n"
   ]
  },
  {
   "cell_type": "markdown",
   "metadata": {},
   "source": [
    "# Creación de diccionarios en Python"
   ]
  },
  {
   "cell_type": "code",
   "execution_count": null,
   "metadata": {},
   "outputs": [],
   "source": [
    "planet = {\n",
    "    'name' : 'mars',\n",
    "    'moons': 2\n",
    "}\n",
    "\n",
    "print(\"The planet \",planet.get('name'),\"has \",planet.get('moons'),\"moons\")\n",
    "\n",
    "planet['circumference'] ={\n",
    "    'polar': 6752,\n",
    "    'equatorial': 6792\n",
    "}\n",
    "\n",
    "print(\"The planet \",planet.get('name'),\"has a polar circumference of\", planet['circumference'].get('polar'))"
   ]
  },
  {
   "cell_type": "markdown",
   "metadata": {},
   "source": [
    "#  Ejercicio 2: Programación dinámica con diccionarios"
   ]
  },
  {
   "cell_type": "code",
   "execution_count": 30,
   "metadata": {},
   "outputs": [
    {
     "name": "stdout",
     "output_type": "stream",
     "text": [
      "17.833333333333332\n"
     ]
    }
   ],
   "source": [
    "planet_moons = {\n",
    "    'mercury': 0,\n",
    "    'venus': 0,\n",
    "    'earth': 1,\n",
    "    'mars': 2,\n",
    "    'jupiter': 79,\n",
    "    'saturn': 82,\n",
    "    'uranus': 27,\n",
    "    'neptune': 14,\n",
    "    'pluto': 5,\n",
    "    'haumea': 2,\n",
    "    'makemake': 1,\n",
    "    'eris': 1\n",
    "}\n",
    "\n",
    "moons = planet_moons.values()\n",
    "planets = len(planet_moons.keys())\n",
    "total_moons = 0\n",
    "for lunas in moons:\n",
    "    total_moons = total_moons+ lunas\n",
    "promedio = total_moons/planets\n",
    "print(promedio)"
   ]
  }
 ],
 "metadata": {
  "interpreter": {
   "hash": "a03ff44ec1fcee9640f4bdfd1d63746224a58cf927036271d00526ccb0585fb9"
  },
  "kernelspec": {
   "display_name": "Python 3.10.2 64-bit",
   "language": "python",
   "name": "python3"
  },
  "language_info": {
   "codemirror_mode": {
    "name": "ipython",
    "version": 3
   },
   "file_extension": ".py",
   "mimetype": "text/x-python",
   "name": "python",
   "nbconvert_exporter": "python",
   "pygments_lexer": "ipython3",
   "version": "3.10.2"
  },
  "orig_nbformat": 4
 },
 "nbformat": 4,
 "nbformat_minor": 2
}
