{
  "cells": [
    {
      "cell_type": "markdown",
      "metadata": {},
      "source": [
        "# Kata 7"
      ]
    },
    {
      "cell_type": "markdown",
      "metadata": {},
      "source": [
        "\n",
        "# Ejercicio 1: Creación de un bucle \"while\"\n"
      ]
    },
    {
      "cell_type": "code",
      "execution_count": 16,
      "metadata": {},
      "outputs": [],
      "source": [
        "planets = []\n",
        "new_planet = \"\"\n"
      ]
    },
    {
      "cell_type": "code",
      "execution_count": 17,
      "metadata": {},
      "outputs": [
        {
          "name": "stdout",
          "output_type": "stream",
          "text": [
            "Ingrese los nombres de los planetas o ingrese donde para terminar el proeso\n",
            "Ingrese los nombres de los planetas o ingrese donde para terminar el proeso\n",
            "Ingrese los nombres de los planetas o ingrese donde para terminar el proeso\n",
            "Ingrese los nombres de los planetas o ingrese donde para terminar el proeso\n",
            "Ingrese los nombres de los planetas o ingrese donde para terminar el proeso\n",
            "Proceso finalizado, los planetas ingresados fueron:  ['Mercurio', 'Venus', 'Tierra', 'Marte']\n"
          ]
        }
      ],
      "source": [
        "while new_planet != 'done':\n",
        "    print(\"Ingrese los nombres de los planetas o ingrese donde para terminar el proeso\")\n",
        "    new_planet = input()\n",
        "    if new_planet != 'done':\n",
        "        planets.append(new_planet)\n",
        "print(\"Proceso finalizado, los planetas ingresados fueron: \", planets)"
      ]
    },
    {
      "cell_type": "markdown",
      "metadata": {},
      "source": [
        "# Ejercicio 2: Creación de un ciclo for"
      ]
    },
    {
      "cell_type": "code",
      "execution_count": 18,
      "metadata": {},
      "outputs": [
        {
          "name": "stdout",
          "output_type": "stream",
          "text": [
            "Mercurio\n",
            "Venus\n",
            "Tierra\n",
            "Marte\n"
          ]
        }
      ],
      "source": [
        "for planet in planets:\n",
        "    print(planet)"
      ]
    }
  ],
  "metadata": {
    "interpreter": {
      "hash": "a03ff44ec1fcee9640f4bdfd1d63746224a58cf927036271d00526ccb0585fb9"
    },
    "kernelspec": {
      "display_name": "Python 3.10.2 64-bit",
      "language": "python",
      "name": "python3"
    },
    "language_info": {
      "codemirror_mode": {
        "name": "ipython",
        "version": 3
      },
      "file_extension": ".py",
      "mimetype": "text/x-python",
      "name": "python",
      "nbconvert_exporter": "python",
      "pygments_lexer": "ipython3",
      "version": "3.10.2"
    },
    "orig_nbformat": 4
  },
  "nbformat": 4,
  "nbformat_minor": 2
}
